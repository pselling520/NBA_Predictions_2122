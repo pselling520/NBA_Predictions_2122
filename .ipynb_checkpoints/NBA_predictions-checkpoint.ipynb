{
 "cells": [
  {
   "cell_type": "markdown",
   "id": "a1e1111e-71a3-4088-8d23-a160f7cbb0b7",
   "metadata": {},
   "source": [
    "# Goal\n",
    "\n",
    "The goal here is to predict the outcomes of NBA games to:\n",
    "1. Practice scraping\n",
    "2. Practice using neural nets\n",
    "\n",
    "We'll use [Basketball Reference](https://www.basketball-reference.com/) for our stats since they allow scraping as long as it isn't done in a mannger that adversely impact site performance/access. To make sure we don't adversely impact the site, we'll make sure we add a pause between each scraping event and we'll then store our results once the scraping is complete so we don't need to re-scrape data from the site. This will result in ongoing maintenance on our end to pick which games to start scraping again as new results come in, which is okay."
   ]
  },
  {
   "cell_type": "code",
   "execution_count": 1,
   "id": "245e35c5-1fcb-4881-b5f5-e337c9860c2f",
   "metadata": {},
   "outputs": [],
   "source": [
    "import pandas as pd\n",
    "import numpy as np\n",
    "import requests\n",
    "from bs4 import BeautifulSoup"
   ]
  },
  {
   "cell_type": "markdown",
   "id": "b67db473-e5f3-4160-ae24-bca96954ff04",
   "metadata": {},
   "source": [
    "# Grabbing Data"
   ]
  },
  {
   "cell_type": "markdown",
   "id": "37b56118-5f31-4e73-b747-d08d8eeeac56",
   "metadata": {},
   "source": [
    "First, we'll grab data from just one game for practice to make sure we can get what we want:\n",
    "* Score\n",
    "* Box Score\n",
    "* Advanced Stats"
   ]
  },
  {
   "cell_type": "code",
   "execution_count": 2,
   "id": "c058209a-6228-4e83-983f-d4eb173a8bbb",
   "metadata": {},
   "outputs": [
    {
     "data": {
      "text/plain": [
       "<Response [200]>"
      ]
     },
     "execution_count": 2,
     "metadata": {},
     "output_type": "execute_result"
    }
   ],
   "source": [
    "test_game = requests.get(\"https://www.basketball-reference.com/boxscores/202110200CHO.html\")\n",
    "\n",
    "# Checking output to make sure info retrieved properly\n",
    "test_game"
   ]
  },
  {
   "cell_type": "code",
   "execution_count": 207,
   "id": "5e7cdfbf-3a9e-4b3d-ba08-6d873c9f6ba6",
   "metadata": {},
   "outputs": [],
   "source": [
    "game_soup = BeautifulSoup(test_game.content, 'html.parser')"
   ]
  },
  {
   "cell_type": "markdown",
   "id": "271599aa-ef73-400e-9f86-6bb38e9fcc08",
   "metadata": {},
   "source": [
    "First, we'll break down the data for one team (in this case, the Indiana Pacers)"
   ]
  },
  {
   "cell_type": "code",
   "execution_count": 208,
   "id": "4a4312de-8f80-41c1-92a0-4faaca6f8e99",
   "metadata": {},
   "outputs": [],
   "source": [
    "IND = game_soup.select('div.section_wrapper.box-IND.box-IND-game')"
   ]
  },
  {
   "cell_type": "code",
   "execution_count": 209,
   "id": "b3a16fac-a06f-4d0a-98c2-ef7ba505778b",
   "metadata": {},
   "outputs": [],
   "source": [
    "IND_reg_subset = IND[0]"
   ]
  },
  {
   "cell_type": "code",
   "execution_count": 210,
   "id": "60eb9fe0-486f-4393-a61f-832af05bb80a",
   "metadata": {
    "tags": []
   },
   "outputs": [],
   "source": [
    "IND_reg_data = list(IND_reg_subset.find_all('table', class_='sortable'))[0]"
   ]
  },
  {
   "cell_type": "code",
   "execution_count": 211,
   "id": "2c644402-a18a-44ec-9914-09cdb9b63c56",
   "metadata": {
    "tags": []
   },
   "outputs": [
    {
     "data": {
      "text/plain": [
       "[<th class=\"left\" csk=\"Brogdon,Malcolm\" data-append-csv=\"brogdma01\" data-stat=\"player\" scope=\"row\"><a href=\"/players/b/brogdma01.html\">Malcolm Brogdon</a></th>,\n",
       " <th class=\"left\" csk=\"Sabonis,Domantas\" data-append-csv=\"sabondo01\" data-stat=\"player\" scope=\"row\"><a href=\"/players/s/sabondo01.html\">Domantas Sabonis</a></th>,\n",
       " <th class=\"left\" csk=\"Duarte,Chris\" data-append-csv=\"duartch01\" data-stat=\"player\" scope=\"row\"><a href=\"/players/d/duartch01.html\">Chris Duarte</a></th>,\n",
       " <th class=\"left\" csk=\"Turner,Myles\" data-append-csv=\"turnemy01\" data-stat=\"player\" scope=\"row\"><a href=\"/players/t/turnemy01.html\">Myles Turner</a></th>,\n",
       " <th class=\"left\" csk=\"Holiday,Justin\" data-append-csv=\"holidju01\" data-stat=\"player\" scope=\"row\"><a href=\"/players/h/holidju01.html\">Justin Holiday</a></th>,\n",
       " <th class=\"left\" csk=\"Craig,Torrey\" data-append-csv=\"craigto01\" data-stat=\"player\" scope=\"row\"><a href=\"/players/c/craigto01.html\">Torrey Craig</a></th>,\n",
       " <th class=\"left\" csk=\"Lamb,Jeremy\" data-append-csv=\"lambje01\" data-stat=\"player\" scope=\"row\"><a href=\"/players/l/lambje01.html\">Jeremy Lamb</a></th>,\n",
       " <th class=\"left\" csk=\"McConnell,T.J.\" data-append-csv=\"mccontj01\" data-stat=\"player\" scope=\"row\"><a href=\"/players/m/mccontj01.html\">T.J. McConnell</a></th>,\n",
       " <th class=\"left\" csk=\"Jackson,Isaiah\" data-append-csv=\"jacksis01\" data-stat=\"player\" scope=\"row\"><a href=\"/players/j/jacksis01.html\">Isaiah Jackson</a></th>,\n",
       " <th class=\"left\" csk=\"Bitadze,Goga\" data-append-csv=\"bitadgo01\" data-stat=\"player\" scope=\"row\"><a href=\"/players/b/bitadgo01.html\">Goga Bitadze</a></th>,\n",
       " <th class=\"left\" csk=\"Brissett,Oshae\" data-append-csv=\"brissos01\" data-stat=\"player\" scope=\"row\"><a href=\"/players/b/brissos01.html\">Oshae Brissett</a></th>,\n",
       " <th class=\"left\" csk=\"Wanamaker,Brad\" data-append-csv=\"wanambr01\" data-stat=\"player\" scope=\"row\"><a href=\"/players/w/wanambr01.html\">Brad Wanamaker</a></th>,\n",
       " <th class=\"left\" csk=\"Washington,Duane\" data-append-csv=\"washidu02\" data-stat=\"player\" scope=\"row\"><a href=\"/players/w/washidu02.html\">Duane Washington</a></th>,\n",
       " <th class=\"left\" data-stat=\"player\" scope=\"row\">Team Totals</th>]"
      ]
     },
     "execution_count": 211,
     "metadata": {},
     "output_type": "execute_result"
    }
   ],
   "source": [
    "players = IND_reg_data.find_all('th', class_='left')\n",
    "players"
   ]
  },
  {
   "cell_type": "code",
   "execution_count": 212,
   "id": "a51f4349-8a23-49bf-b1bd-4bd71dc1140c",
   "metadata": {
    "tags": []
   },
   "outputs": [
    {
     "data": {
      "text/plain": [
       "[<td class=\"right\" csk=\"2418\" data-stat=\"mp\">40:18</td>,\n",
       " <td class=\"right\" data-stat=\"fg\">8</td>,\n",
       " <td class=\"right\" data-stat=\"fga\">20</td>,\n",
       " <td class=\"right\" data-stat=\"fg_pct\">.400</td>,\n",
       " <td class=\"right\" data-stat=\"fg3\">3</td>,\n",
       " <td class=\"right\" data-stat=\"fg3a\">10</td>,\n",
       " <td class=\"right\" data-stat=\"fg3_pct\">.300</td>,\n",
       " <td class=\"right\" data-stat=\"ft\">9</td>,\n",
       " <td class=\"right\" data-stat=\"fta\">9</td>,\n",
       " <td class=\"right\" data-stat=\"ft_pct\">1.000</td>,\n",
       " <td class=\"right iz\" data-stat=\"orb\">0</td>,\n",
       " <td class=\"right\" data-stat=\"drb\">4</td>,\n",
       " <td class=\"right\" data-stat=\"trb\">4</td>,\n",
       " <td class=\"right\" data-stat=\"ast\">11</td>,\n",
       " <td class=\"right iz\" data-stat=\"stl\">0</td>,\n",
       " <td class=\"right\" data-stat=\"blk\">1</td>,\n",
       " <td class=\"right\" data-stat=\"tov\">1</td>,\n",
       " <td class=\"right\" data-stat=\"pf\">2</td>,\n",
       " <td class=\"right\" data-stat=\"pts\">28</td>,\n",
       " <td class=\"right iz\" data-stat=\"plus_minus\">0</td>,\n",
       " <td class=\"right\" csk=\"2359\" data-stat=\"mp\">39:19</td>,\n",
       " <td class=\"right\" data-stat=\"fg\">13</td>,\n",
       " <td class=\"right\" data-stat=\"fga\">19</td>,\n",
       " <td class=\"right\" data-stat=\"fg_pct\">.684</td>,\n",
       " <td class=\"right\" data-stat=\"fg3\">4</td>,\n",
       " <td class=\"right\" data-stat=\"fg3a\">6</td>,\n",
       " <td class=\"right\" data-stat=\"fg3_pct\">.667</td>,\n",
       " <td class=\"right\" data-stat=\"ft\">3</td>,\n",
       " <td class=\"right\" data-stat=\"fta\">4</td>,\n",
       " <td class=\"right\" data-stat=\"ft_pct\">.750</td>,\n",
       " <td class=\"right\" data-stat=\"orb\">3</td>,\n",
       " <td class=\"right\" data-stat=\"drb\">12</td>,\n",
       " <td class=\"right\" data-stat=\"trb\">15</td>,\n",
       " <td class=\"right\" data-stat=\"ast\">2</td>,\n",
       " <td class=\"right iz\" data-stat=\"stl\">0</td>,\n",
       " <td class=\"right iz\" data-stat=\"blk\">0</td>,\n",
       " <td class=\"right\" data-stat=\"tov\">6</td>,\n",
       " <td class=\"right\" data-stat=\"pf\">4</td>,\n",
       " <td class=\"right\" data-stat=\"pts\">33</td>,\n",
       " <td class=\"right\" data-stat=\"plus_minus\">-1</td>,\n",
       " <td class=\"right\" csk=\"1962\" data-stat=\"mp\">32:42</td>,\n",
       " <td class=\"right\" data-stat=\"fg\">9</td>,\n",
       " <td class=\"right\" data-stat=\"fga\">15</td>,\n",
       " <td class=\"right\" data-stat=\"fg_pct\">.600</td>,\n",
       " <td class=\"right\" data-stat=\"fg3\">6</td>,\n",
       " <td class=\"right\" data-stat=\"fg3a\">9</td>,\n",
       " <td class=\"right\" data-stat=\"fg3_pct\">.667</td>,\n",
       " <td class=\"right\" data-stat=\"ft\">3</td>,\n",
       " <td class=\"right\" data-stat=\"fta\">3</td>,\n",
       " <td class=\"right\" data-stat=\"ft_pct\">1.000</td>,\n",
       " <td class=\"right iz\" data-stat=\"orb\">0</td>,\n",
       " <td class=\"right\" data-stat=\"drb\">5</td>,\n",
       " <td class=\"right\" data-stat=\"trb\">5</td>,\n",
       " <td class=\"right\" data-stat=\"ast\">1</td>,\n",
       " <td class=\"right\" data-stat=\"stl\">1</td>,\n",
       " <td class=\"right iz\" data-stat=\"blk\">0</td>,\n",
       " <td class=\"right\" data-stat=\"tov\">1</td>,\n",
       " <td class=\"right\" data-stat=\"pf\">4</td>,\n",
       " <td class=\"right\" data-stat=\"pts\">27</td>,\n",
       " <td class=\"right\" data-stat=\"plus_minus\">+7</td>,\n",
       " <td class=\"right\" csk=\"1549\" data-stat=\"mp\">25:49</td>,\n",
       " <td class=\"right\" data-stat=\"fg\">3</td>,\n",
       " <td class=\"right\" data-stat=\"fga\">6</td>,\n",
       " <td class=\"right\" data-stat=\"fg_pct\">.500</td>,\n",
       " <td class=\"right\" data-stat=\"fg3\">1</td>,\n",
       " <td class=\"right\" data-stat=\"fg3a\">3</td>,\n",
       " <td class=\"right\" data-stat=\"fg3_pct\">.333</td>,\n",
       " <td class=\"right\" data-stat=\"ft\">2</td>,\n",
       " <td class=\"right\" data-stat=\"fta\">4</td>,\n",
       " <td class=\"right\" data-stat=\"ft_pct\">.500</td>,\n",
       " <td class=\"right\" data-stat=\"orb\">1</td>,\n",
       " <td class=\"right\" data-stat=\"drb\">6</td>,\n",
       " <td class=\"right\" data-stat=\"trb\">7</td>,\n",
       " <td class=\"right\" data-stat=\"ast\">1</td>,\n",
       " <td class=\"right iz\" data-stat=\"stl\">0</td>,\n",
       " <td class=\"right\" data-stat=\"blk\">4</td>,\n",
       " <td class=\"right\" data-stat=\"tov\">4</td>,\n",
       " <td class=\"right\" data-stat=\"pf\">4</td>,\n",
       " <td class=\"right\" data-stat=\"pts\">9</td>,\n",
       " <td class=\"right\" data-stat=\"plus_minus\">-8</td>,\n",
       " <td class=\"right\" csk=\"1543\" data-stat=\"mp\">25:43</td>,\n",
       " <td class=\"right\" data-stat=\"fg\">4</td>,\n",
       " <td class=\"right\" data-stat=\"fga\">10</td>,\n",
       " <td class=\"right\" data-stat=\"fg_pct\">.400</td>,\n",
       " <td class=\"right\" data-stat=\"fg3\">1</td>,\n",
       " <td class=\"right\" data-stat=\"fg3a\">7</td>,\n",
       " <td class=\"right\" data-stat=\"fg3_pct\">.143</td>,\n",
       " <td class=\"right\" data-stat=\"ft\">2</td>,\n",
       " <td class=\"right\" data-stat=\"fta\">2</td>,\n",
       " <td class=\"right\" data-stat=\"ft_pct\">1.000</td>,\n",
       " <td class=\"right\" data-stat=\"orb\">1</td>,\n",
       " <td class=\"right\" data-stat=\"drb\">6</td>,\n",
       " <td class=\"right\" data-stat=\"trb\">7</td>,\n",
       " <td class=\"right\" data-stat=\"ast\">4</td>,\n",
       " <td class=\"right iz\" data-stat=\"stl\">0</td>,\n",
       " <td class=\"right iz\" data-stat=\"blk\">0</td>,\n",
       " <td class=\"right iz\" data-stat=\"tov\">0</td>,\n",
       " <td class=\"right\" data-stat=\"pf\">3</td>,\n",
       " <td class=\"right\" data-stat=\"pts\">11</td>,\n",
       " <td class=\"right\" data-stat=\"plus_minus\">+3</td>,\n",
       " <td class=\"right\" csk=\"1668\" data-stat=\"mp\">27:48</td>,\n",
       " <td class=\"right\" data-stat=\"fg\">1</td>,\n",
       " <td class=\"right\" data-stat=\"fga\">4</td>,\n",
       " <td class=\"right\" data-stat=\"fg_pct\">.250</td>,\n",
       " <td class=\"right\" data-stat=\"fg3\">1</td>,\n",
       " <td class=\"right\" data-stat=\"fg3a\">4</td>,\n",
       " <td class=\"right\" data-stat=\"fg3_pct\">.250</td>,\n",
       " <td class=\"right\" data-stat=\"ft\">2</td>,\n",
       " <td class=\"right\" data-stat=\"fta\">2</td>,\n",
       " <td class=\"right\" data-stat=\"ft_pct\">1.000</td>,\n",
       " <td class=\"right\" data-stat=\"orb\">3</td>,\n",
       " <td class=\"right\" data-stat=\"drb\">5</td>,\n",
       " <td class=\"right\" data-stat=\"trb\">8</td>,\n",
       " <td class=\"right\" data-stat=\"ast\">3</td>,\n",
       " <td class=\"right iz\" data-stat=\"stl\">0</td>,\n",
       " <td class=\"right\" data-stat=\"blk\">1</td>,\n",
       " <td class=\"right\" data-stat=\"tov\">1</td>,\n",
       " <td class=\"right\" data-stat=\"pf\">4</td>,\n",
       " <td class=\"right\" data-stat=\"pts\">5</td>,\n",
       " <td class=\"right\" data-stat=\"plus_minus\">-3</td>,\n",
       " <td class=\"right\" csk=\"1454\" data-stat=\"mp\">24:14</td>,\n",
       " <td class=\"right\" data-stat=\"fg\">1</td>,\n",
       " <td class=\"right\" data-stat=\"fga\">9</td>,\n",
       " <td class=\"right\" data-stat=\"fg_pct\">.111</td>,\n",
       " <td class=\"right\" data-stat=\"fg3\">1</td>,\n",
       " <td class=\"right\" data-stat=\"fg3a\">6</td>,\n",
       " <td class=\"right\" data-stat=\"fg3_pct\">.167</td>,\n",
       " <td class=\"right iz\" data-stat=\"ft\">0</td>,\n",
       " <td class=\"right iz\" data-stat=\"fta\">0</td>,\n",
       " <td class=\"right iz\" data-stat=\"ft_pct\"></td>,\n",
       " <td class=\"right iz\" data-stat=\"orb\">0</td>,\n",
       " <td class=\"right\" data-stat=\"drb\">2</td>,\n",
       " <td class=\"right\" data-stat=\"trb\">2</td>,\n",
       " <td class=\"right iz\" data-stat=\"ast\">0</td>,\n",
       " <td class=\"right iz\" data-stat=\"stl\">0</td>,\n",
       " <td class=\"right\" data-stat=\"blk\">2</td>,\n",
       " <td class=\"right\" data-stat=\"tov\">2</td>,\n",
       " <td class=\"right\" data-stat=\"pf\">2</td>,\n",
       " <td class=\"right\" data-stat=\"pts\">3</td>,\n",
       " <td class=\"right\" data-stat=\"plus_minus\">+5</td>,\n",
       " <td class=\"right\" csk=\"1447\" data-stat=\"mp\">24:07</td>,\n",
       " <td class=\"right\" data-stat=\"fg\">3</td>,\n",
       " <td class=\"right\" data-stat=\"fga\">7</td>,\n",
       " <td class=\"right\" data-stat=\"fg_pct\">.429</td>,\n",
       " <td class=\"right iz\" data-stat=\"fg3\">0</td>,\n",
       " <td class=\"right\" data-stat=\"fg3a\">2</td>,\n",
       " <td class=\"right iz\" data-stat=\"fg3_pct\">.000</td>,\n",
       " <td class=\"right iz\" data-stat=\"ft\">0</td>,\n",
       " <td class=\"right iz\" data-stat=\"fta\">0</td>,\n",
       " <td class=\"right iz\" data-stat=\"ft_pct\"></td>,\n",
       " <td class=\"right iz\" data-stat=\"orb\">0</td>,\n",
       " <td class=\"right\" data-stat=\"drb\">3</td>,\n",
       " <td class=\"right\" data-stat=\"trb\">3</td>,\n",
       " <td class=\"right\" data-stat=\"ast\">7</td>,\n",
       " <td class=\"right\" data-stat=\"stl\">1</td>,\n",
       " <td class=\"right\" data-stat=\"blk\">2</td>,\n",
       " <td class=\"right\" data-stat=\"tov\">1</td>,\n",
       " <td class=\"right\" data-stat=\"pf\">1</td>,\n",
       " <td class=\"right\" data-stat=\"pts\">6</td>,\n",
       " <td class=\"right\" data-stat=\"plus_minus\">-8</td>,\n",
       " <td class=\"right\" data-stat=\"mp\">240</td>,\n",
       " <td class=\"right\" data-stat=\"fg\">42</td>,\n",
       " <td class=\"right\" data-stat=\"fga\">90</td>,\n",
       " <td class=\"right\" data-stat=\"fg_pct\">.467</td>,\n",
       " <td class=\"right\" data-stat=\"fg3\">17</td>,\n",
       " <td class=\"right\" data-stat=\"fg3a\">47</td>,\n",
       " <td class=\"right\" data-stat=\"fg3_pct\">.362</td>,\n",
       " <td class=\"right\" data-stat=\"ft\">21</td>,\n",
       " <td class=\"right\" data-stat=\"fta\">24</td>,\n",
       " <td class=\"right\" data-stat=\"ft_pct\">.875</td>,\n",
       " <td class=\"right\" data-stat=\"orb\">8</td>,\n",
       " <td class=\"right\" data-stat=\"drb\">43</td>,\n",
       " <td class=\"right\" data-stat=\"trb\">51</td>,\n",
       " <td class=\"right\" data-stat=\"ast\">29</td>,\n",
       " <td class=\"right\" data-stat=\"stl\">2</td>,\n",
       " <td class=\"right\" data-stat=\"blk\">10</td>,\n",
       " <td class=\"right\" data-stat=\"tov\">16</td>,\n",
       " <td class=\"right\" data-stat=\"pf\">24</td>,\n",
       " <td class=\"right\" data-stat=\"pts\">122</td>,\n",
       " <td class=\"right iz\" data-stat=\"plus_minus\"></td>]"
      ]
     },
     "execution_count": 212,
     "metadata": {},
     "output_type": "execute_result"
    }
   ],
   "source": [
    "player_reg_stats = IND_reg_data.find_all('td', class_='right')\n",
    "player_reg_stats"
   ]
  },
  {
   "cell_type": "code",
   "execution_count": 213,
   "id": "86c8694d-dc3f-4fd9-914c-3f27f7b9fcaf",
   "metadata": {
    "tags": []
   },
   "outputs": [],
   "source": [
    "IND_adv_subset = IND[1]"
   ]
  },
  {
   "cell_type": "code",
   "execution_count": 214,
   "id": "cd446066-aa02-441d-bab8-d3c5cdeb39d3",
   "metadata": {},
   "outputs": [],
   "source": [
    "IND_adv_data = list(IND_adv_subset.find_all('table', class_='sortable'))[0]"
   ]
  },
  {
   "cell_type": "code",
   "execution_count": 215,
   "id": "10fc61e1-7e9a-4eef-bd02-b7214a74f31e",
   "metadata": {
    "tags": []
   },
   "outputs": [
    {
     "data": {
      "text/plain": [
       "[<td class=\"right\" csk=\"2418\" data-stat=\"mp\">40:18</td>,\n",
       " <td class=\"right\" data-stat=\"ts_pct\">.584</td>,\n",
       " <td class=\"right\" data-stat=\"efg_pct\">.475</td>,\n",
       " <td class=\"right\" data-stat=\"fg3a_per_fga_pct\">.500</td>,\n",
       " <td class=\"right\" data-stat=\"fta_per_fga_pct\">.450</td>,\n",
       " <td class=\"right iz\" data-stat=\"orb_pct\">0.0</td>,\n",
       " <td class=\"right\" data-stat=\"drb_pct\">8.7</td>,\n",
       " <td class=\"right\" data-stat=\"trb_pct\">4.9</td>,\n",
       " <td class=\"right\" data-stat=\"ast_pct\">40.3</td>,\n",
       " <td class=\"right iz\" data-stat=\"stl_pct\">0.0</td>,\n",
       " <td class=\"right\" data-stat=\"blk_pct\">1.6</td>,\n",
       " <td class=\"right\" data-stat=\"tov_pct\">4.0</td>,\n",
       " <td class=\"right\" data-stat=\"usg_pct\">25.5</td>,\n",
       " <td class=\"right\" data-stat=\"off_rtg\">134</td>,\n",
       " <td class=\"right\" data-stat=\"def_rtg\">117</td>,\n",
       " <td class=\"right poptip\" data-stat=\"bpm\" data-tip=\"OBPM: 7.1&lt;br&gt; DBPM: -0.5&lt;br&gt; VORP: 7.2&lt;br&gt; &lt;em&gt;&lt;small&gt;VORP is prorated to 82 games&lt;/small&gt;&lt;/em&gt; \">6.5</td>,\n",
       " <td class=\"right\" csk=\"2359\" data-stat=\"mp\">39:19</td>,\n",
       " <td class=\"right\" data-stat=\"ts_pct\">.795</td>,\n",
       " <td class=\"right\" data-stat=\"efg_pct\">.789</td>,\n",
       " <td class=\"right\" data-stat=\"fg3a_per_fga_pct\">.316</td>,\n",
       " <td class=\"right\" data-stat=\"fta_per_fga_pct\">.211</td>,\n",
       " <td class=\"right\" data-stat=\"orb_pct\">8.7</td>,\n",
       " <td class=\"right\" data-stat=\"drb_pct\">26.6</td>,\n",
       " <td class=\"right\" data-stat=\"trb_pct\">18.9</td>,\n",
       " <td class=\"right\" data-stat=\"ast_pct\">9.3</td>,\n",
       " <td class=\"right iz\" data-stat=\"stl_pct\">0.0</td>,\n",
       " <td class=\"right iz\" data-stat=\"blk_pct\">0.0</td>,\n",
       " <td class=\"right\" data-stat=\"tov_pct\">22.4</td>,\n",
       " <td class=\"right\" data-stat=\"usg_pct\">28.0</td>,\n",
       " <td class=\"right\" data-stat=\"off_rtg\">117</td>,\n",
       " <td class=\"right\" data-stat=\"def_rtg\">113</td>,\n",
       " <td class=\"right poptip\" data-stat=\"bpm\" data-tip=\"OBPM: 5.2&lt;br&gt; DBPM: -1.8&lt;br&gt; VORP: 4.4&lt;br&gt; &lt;em&gt;&lt;small&gt;VORP is prorated to 82 games&lt;/small&gt;&lt;/em&gt; \">3.4</td>,\n",
       " <td class=\"right\" csk=\"1962\" data-stat=\"mp\">32:42</td>,\n",
       " <td class=\"right\" data-stat=\"ts_pct\">.827</td>,\n",
       " <td class=\"right\" data-stat=\"efg_pct\">.800</td>,\n",
       " <td class=\"right\" data-stat=\"fg3a_per_fga_pct\">.600</td>,\n",
       " <td class=\"right\" data-stat=\"fta_per_fga_pct\">.200</td>,\n",
       " <td class=\"right iz\" data-stat=\"orb_pct\">0.0</td>,\n",
       " <td class=\"right\" data-stat=\"drb_pct\">13.3</td>,\n",
       " <td class=\"right\" data-stat=\"trb_pct\">7.6</td>,\n",
       " <td class=\"right\" data-stat=\"ast_pct\">5.1</td>,\n",
       " <td class=\"right\" data-stat=\"stl_pct\">1.4</td>,\n",
       " <td class=\"right iz\" data-stat=\"blk_pct\">0.0</td>,\n",
       " <td class=\"right\" data-stat=\"tov_pct\">5.8</td>,\n",
       " <td class=\"right\" data-stat=\"usg_pct\">21.8</td>,\n",
       " <td class=\"right\" data-stat=\"off_rtg\">145</td>,\n",
       " <td class=\"right\" data-stat=\"def_rtg\">114</td>,\n",
       " <td class=\"right poptip\" data-stat=\"bpm\" data-tip=\"OBPM: 7.4&lt;br&gt; DBPM: 1.1&lt;br&gt; VORP: 7.1&lt;br&gt; &lt;em&gt;&lt;small&gt;VORP is prorated to 82 games&lt;/small&gt;&lt;/em&gt; \">8.5</td>,\n",
       " <td class=\"right\" csk=\"1549\" data-stat=\"mp\">25:49</td>,\n",
       " <td class=\"right\" data-stat=\"ts_pct\">.580</td>,\n",
       " <td class=\"right\" data-stat=\"efg_pct\">.583</td>,\n",
       " <td class=\"right\" data-stat=\"fg3a_per_fga_pct\">.500</td>,\n",
       " <td class=\"right\" data-stat=\"fta_per_fga_pct\">.667</td>,\n",
       " <td class=\"right\" data-stat=\"orb_pct\">4.4</td>,\n",
       " <td class=\"right\" data-stat=\"drb_pct\">20.3</td>,\n",
       " <td class=\"right\" data-stat=\"trb_pct\">13.4</td>,\n",
       " <td class=\"right\" data-stat=\"ast_pct\">5.1</td>,\n",
       " <td class=\"right iz\" data-stat=\"stl_pct\">0.0</td>,\n",
       " <td class=\"right\" data-stat=\"blk_pct\">9.8</td>,\n",
       " <td class=\"right\" data-stat=\"tov_pct\">34.0</td>,\n",
       " <td class=\"right\" data-stat=\"usg_pct\">18.8</td>,\n",
       " <td class=\"right\" data-stat=\"off_rtg\">79</td>,\n",
       " <td class=\"right\" data-stat=\"def_rtg\">106</td>,\n",
       " <td class=\"right poptip\" data-stat=\"bpm\" data-tip=\"OBPM: -6.1&lt;br&gt; DBPM: 1.0&lt;br&gt; VORP: -1.7&lt;br&gt; &lt;em&gt;&lt;small&gt;VORP is prorated to 82 games&lt;/small&gt;&lt;/em&gt; \">-5.1</td>,\n",
       " <td class=\"right\" csk=\"1543\" data-stat=\"mp\">25:43</td>,\n",
       " <td class=\"right\" data-stat=\"ts_pct\">.506</td>,\n",
       " <td class=\"right\" data-stat=\"efg_pct\">.450</td>,\n",
       " <td class=\"right\" data-stat=\"fg3a_per_fga_pct\">.700</td>,\n",
       " <td class=\"right\" data-stat=\"fta_per_fga_pct\">.200</td>,\n",
       " <td class=\"right\" data-stat=\"orb_pct\">4.4</td>,\n",
       " <td class=\"right\" data-stat=\"drb_pct\">20.4</td>,\n",
       " <td class=\"right\" data-stat=\"trb_pct\">13.5</td>,\n",
       " <td class=\"right\" data-stat=\"ast_pct\">21.6</td>,\n",
       " <td class=\"right iz\" data-stat=\"stl_pct\">0.0</td>,\n",
       " <td class=\"right iz\" data-stat=\"blk_pct\">0.0</td>,\n",
       " <td class=\"right iz\" data-stat=\"tov_pct\">0.0</td>,\n",
       " <td class=\"right\" data-stat=\"usg_pct\">17.4</td>,\n",
       " <td class=\"right\" data-stat=\"off_rtg\">124</td>,\n",
       " <td class=\"right\" data-stat=\"def_rtg\">115</td>,\n",
       " <td class=\"right poptip\" data-stat=\"bpm\" data-tip=\"OBPM: 0.6&lt;br&gt; DBPM: -0.6&lt;br&gt; VORP: 1.0&lt;br&gt; &lt;em&gt;&lt;small&gt;VORP is prorated to 82 games&lt;/small&gt;&lt;/em&gt; \">-0.1</td>,\n",
       " <td class=\"right\" csk=\"1668\" data-stat=\"mp\">27:48</td>,\n",
       " <td class=\"right\" data-stat=\"ts_pct\">.512</td>,\n",
       " <td class=\"right\" data-stat=\"efg_pct\">.375</td>,\n",
       " <td class=\"right\" data-stat=\"fg3a_per_fga_pct\">1.000</td>,\n",
       " <td class=\"right\" data-stat=\"fta_per_fga_pct\">.500</td>,\n",
       " <td class=\"right\" data-stat=\"orb_pct\">12.3</td>,\n",
       " <td class=\"right\" data-stat=\"drb_pct\">15.7</td>,\n",
       " <td class=\"right\" data-stat=\"trb_pct\">14.2</td>,\n",
       " <td class=\"right\" data-stat=\"ast_pct\">12.9</td>,\n",
       " <td class=\"right iz\" data-stat=\"stl_pct\">0.0</td>,\n",
       " <td class=\"right\" data-stat=\"blk_pct\">2.3</td>,\n",
       " <td class=\"right\" data-stat=\"tov_pct\">17.0</td>,\n",
       " <td class=\"right\" data-stat=\"usg_pct\">8.7</td>,\n",
       " <td class=\"right\" data-stat=\"off_rtg\">129</td>,\n",
       " <td class=\"right\" data-stat=\"def_rtg\">114</td>,\n",
       " <td class=\"right poptip\" data-stat=\"bpm\" data-tip=\"OBPM: -0.5&lt;br&gt; DBPM: -0.1&lt;br&gt; VORP: 0.8&lt;br&gt; &lt;em&gt;&lt;small&gt;VORP is prorated to 82 games&lt;/small&gt;&lt;/em&gt; \">-0.6</td>,\n",
       " <td class=\"right\" csk=\"1454\" data-stat=\"mp\">24:14</td>,\n",
       " <td class=\"right\" data-stat=\"ts_pct\">.167</td>,\n",
       " <td class=\"right\" data-stat=\"efg_pct\">.167</td>,\n",
       " <td class=\"right\" data-stat=\"fg3a_per_fga_pct\">.667</td>,\n",
       " <td class=\"right iz\" data-stat=\"fta_per_fga_pct\">.000</td>,\n",
       " <td class=\"right iz\" data-stat=\"orb_pct\">0.0</td>,\n",
       " <td class=\"right\" data-stat=\"drb_pct\">7.2</td>,\n",
       " <td class=\"right\" data-stat=\"trb_pct\">4.1</td>,\n",
       " <td class=\"right iz\" data-stat=\"ast_pct\">0.0</td>,\n",
       " <td class=\"right iz\" data-stat=\"stl_pct\">0.0</td>,\n",
       " <td class=\"right\" data-stat=\"blk_pct\">5.2</td>,\n",
       " <td class=\"right\" data-stat=\"tov_pct\">18.2</td>,\n",
       " <td class=\"right\" data-stat=\"usg_pct\">18.7</td>,\n",
       " <td class=\"right\" data-stat=\"off_rtg\">29</td>,\n",
       " <td class=\"right\" data-stat=\"def_rtg\">114</td>,\n",
       " <td class=\"right poptip\" data-stat=\"bpm\" data-tip=\"OBPM: -11.1&lt;br&gt; DBPM: -4.9&lt;br&gt; VORP: -7.1&lt;br&gt; &lt;em&gt;&lt;small&gt;VORP is prorated to 82 games&lt;/small&gt;&lt;/em&gt; \">-16.0</td>,\n",
       " <td class=\"right\" csk=\"1447\" data-stat=\"mp\">24:07</td>,\n",
       " <td class=\"right\" data-stat=\"ts_pct\">.429</td>,\n",
       " <td class=\"right\" data-stat=\"efg_pct\">.429</td>,\n",
       " <td class=\"right\" data-stat=\"fg3a_per_fga_pct\">.286</td>,\n",
       " <td class=\"right iz\" data-stat=\"fta_per_fga_pct\">.000</td>,\n",
       " <td class=\"right iz\" data-stat=\"orb_pct\">0.0</td>,\n",
       " <td class=\"right\" data-stat=\"drb_pct\">10.9</td>,\n",
       " <td class=\"right\" data-stat=\"trb_pct\">6.2</td>,\n",
       " <td class=\"right\" data-stat=\"ast_pct\">38.7</td>,\n",
       " <td class=\"right\" data-stat=\"stl_pct\">1.8</td>,\n",
       " <td class=\"right\" data-stat=\"blk_pct\">5.2</td>,\n",
       " <td class=\"right\" data-stat=\"tov_pct\">12.5</td>,\n",
       " <td class=\"right\" data-stat=\"usg_pct\">13.7</td>,\n",
       " <td class=\"right\" data-stat=\"off_rtg\">112</td>,\n",
       " <td class=\"right\" data-stat=\"def_rtg\">109</td>,\n",
       " <td class=\"right poptip\" data-stat=\"bpm\" data-tip=\"OBPM: 1.4&lt;br&gt; DBPM: 2.1&lt;br&gt; VORP: 2.7&lt;br&gt; &lt;em&gt;&lt;small&gt;VORP is prorated to 82 games&lt;/small&gt;&lt;/em&gt; \">3.5</td>,\n",
       " <td class=\"right\" data-stat=\"mp\">240</td>,\n",
       " <td class=\"right\" data-stat=\"ts_pct\">.607</td>,\n",
       " <td class=\"right\" data-stat=\"efg_pct\">.561</td>,\n",
       " <td class=\"right\" data-stat=\"fg3a_per_fga_pct\">.522</td>,\n",
       " <td class=\"right\" data-stat=\"fta_per_fga_pct\">.267</td>,\n",
       " <td class=\"right\" data-stat=\"orb_pct\">19.0</td>,\n",
       " <td class=\"right\" data-stat=\"drb_pct\">78.2</td>,\n",
       " <td class=\"right\" data-stat=\"trb_pct\">52.6</td>,\n",
       " <td class=\"right\" data-stat=\"ast_pct\">69.0</td>,\n",
       " <td class=\"right\" data-stat=\"stl_pct\">1.8</td>,\n",
       " <td class=\"right\" data-stat=\"blk_pct\">13.2</td>,\n",
       " <td class=\"right\" data-stat=\"tov_pct\">13.7</td>,\n",
       " <td class=\"right\" data-stat=\"usg_pct\">100.0</td>,\n",
       " <td class=\"right\" data-stat=\"off_rtg\">112.2</td>,\n",
       " <td class=\"right\" data-stat=\"def_rtg\">113.2</td>,\n",
       " <td class=\"right iz\" data-stat=\"bpm\"></td>]"
      ]
     },
     "execution_count": 215,
     "metadata": {},
     "output_type": "execute_result"
    }
   ],
   "source": [
    "player_adv_stats = IND_adv_data.find_all('td', class_='right')\n",
    "player_adv_stats"
   ]
  },
  {
   "cell_type": "markdown",
   "id": "48885d07-d6ea-44b6-b3c9-26a1ec81f189",
   "metadata": {},
   "source": [
    "# Converting data into a dataframe"
   ]
  },
  {
   "cell_type": "markdown",
   "id": "2c197474-55e1-4a4e-adf7-13fdfe78ab6c",
   "metadata": {},
   "source": [
    "Now that we have all of the stats for Indiana, let's build a dataframe"
   ]
  },
  {
   "cell_type": "code",
   "execution_count": 216,
   "id": "0d19b1cf-34ef-44bb-be47-7ee55b0cb734",
   "metadata": {},
   "outputs": [],
   "source": [
    "cols = ['player', 'MP', 'FG', 'FGA', 'FG%', '3P', '3PA', '3P%', 'FT', 'FTA', \n",
    "        'FT%', 'ORB', 'DRB', 'TRB', 'AST', 'STL', 'BLK', 'TOV', 'PF', 'PTS', \n",
    "        '+/-', 'TS%', 'eFG%', '3PAr', 'FTr', 'ORB%', 'DRB%', 'TRB%', 'AST%',\n",
    "        'STL%', 'BLK%', 'TOV%', 'USG%', 'ORTg', 'DRTg', 'BPM']"
   ]
  },
  {
   "cell_type": "code",
   "execution_count": 217,
   "id": "98bbc6f1-4b72-4dac-bf1e-b4a43d478d6d",
   "metadata": {},
   "outputs": [
    {
     "data": {
      "text/plain": [
       "[<th class=\"left\" csk=\"Brogdon,Malcolm\" data-append-csv=\"brogdma01\" data-stat=\"player\" scope=\"row\"><a href=\"/players/b/brogdma01.html\">Malcolm Brogdon</a></th>,\n",
       " <th class=\"left\" csk=\"Sabonis,Domantas\" data-append-csv=\"sabondo01\" data-stat=\"player\" scope=\"row\"><a href=\"/players/s/sabondo01.html\">Domantas Sabonis</a></th>,\n",
       " <th class=\"left\" csk=\"Duarte,Chris\" data-append-csv=\"duartch01\" data-stat=\"player\" scope=\"row\"><a href=\"/players/d/duartch01.html\">Chris Duarte</a></th>,\n",
       " <th class=\"left\" csk=\"Turner,Myles\" data-append-csv=\"turnemy01\" data-stat=\"player\" scope=\"row\"><a href=\"/players/t/turnemy01.html\">Myles Turner</a></th>,\n",
       " <th class=\"left\" csk=\"Holiday,Justin\" data-append-csv=\"holidju01\" data-stat=\"player\" scope=\"row\"><a href=\"/players/h/holidju01.html\">Justin Holiday</a></th>,\n",
       " <th class=\"left\" csk=\"Craig,Torrey\" data-append-csv=\"craigto01\" data-stat=\"player\" scope=\"row\"><a href=\"/players/c/craigto01.html\">Torrey Craig</a></th>,\n",
       " <th class=\"left\" csk=\"Lamb,Jeremy\" data-append-csv=\"lambje01\" data-stat=\"player\" scope=\"row\"><a href=\"/players/l/lambje01.html\">Jeremy Lamb</a></th>,\n",
       " <th class=\"left\" csk=\"McConnell,T.J.\" data-append-csv=\"mccontj01\" data-stat=\"player\" scope=\"row\"><a href=\"/players/m/mccontj01.html\">T.J. McConnell</a></th>,\n",
       " <th class=\"left\" csk=\"Jackson,Isaiah\" data-append-csv=\"jacksis01\" data-stat=\"player\" scope=\"row\"><a href=\"/players/j/jacksis01.html\">Isaiah Jackson</a></th>,\n",
       " <th class=\"left\" csk=\"Bitadze,Goga\" data-append-csv=\"bitadgo01\" data-stat=\"player\" scope=\"row\"><a href=\"/players/b/bitadgo01.html\">Goga Bitadze</a></th>,\n",
       " <th class=\"left\" csk=\"Brissett,Oshae\" data-append-csv=\"brissos01\" data-stat=\"player\" scope=\"row\"><a href=\"/players/b/brissos01.html\">Oshae Brissett</a></th>,\n",
       " <th class=\"left\" csk=\"Wanamaker,Brad\" data-append-csv=\"wanambr01\" data-stat=\"player\" scope=\"row\"><a href=\"/players/w/wanambr01.html\">Brad Wanamaker</a></th>,\n",
       " <th class=\"left\" csk=\"Washington,Duane\" data-append-csv=\"washidu02\" data-stat=\"player\" scope=\"row\"><a href=\"/players/w/washidu02.html\">Duane Washington</a></th>,\n",
       " <th class=\"left\" data-stat=\"player\" scope=\"row\">Team Totals</th>]"
      ]
     },
     "execution_count": 217,
     "metadata": {},
     "output_type": "execute_result"
    }
   ],
   "source": [
    "players"
   ]
  },
  {
   "cell_type": "code",
   "execution_count": 218,
   "id": "b19b40b5-97ab-48bd-918f-a8b4fe0e4307",
   "metadata": {},
   "outputs": [
    {
     "data": {
      "text/plain": [
       "<th class=\"left\" csk=\"Brogdon,Malcolm\" data-append-csv=\"brogdma01\" data-stat=\"player\" scope=\"row\"><a href=\"/players/b/brogdma01.html\">Malcolm Brogdon</a></th>"
      ]
     },
     "execution_count": 218,
     "metadata": {},
     "output_type": "execute_result"
    }
   ],
   "source": [
    "test = players[0]\n",
    "players[0]"
   ]
  },
  {
   "cell_type": "code",
   "execution_count": 219,
   "id": "90dd5df7-8d17-4ada-9c11-4791bdf92389",
   "metadata": {},
   "outputs": [
    {
     "data": {
      "text/plain": [
       "'Malcolm Brogdon'"
      ]
     },
     "execution_count": 219,
     "metadata": {},
     "output_type": "execute_result"
    }
   ],
   "source": [
    "test.string"
   ]
  },
  {
   "cell_type": "code",
   "execution_count": 220,
   "id": "789e06c0-ffc6-4ed1-b36c-9d970e03bf20",
   "metadata": {},
   "outputs": [
    {
     "data": {
      "text/plain": [
       "['Malcolm Brogdon',\n",
       " 'Domantas Sabonis',\n",
       " 'Chris Duarte',\n",
       " 'Myles Turner',\n",
       " 'Justin Holiday',\n",
       " 'Torrey Craig',\n",
       " 'Jeremy Lamb',\n",
       " 'T.J. McConnell',\n",
       " 'Isaiah Jackson',\n",
       " 'Goga Bitadze',\n",
       " 'Oshae Brissett',\n",
       " 'Brad Wanamaker',\n",
       " 'Duane Washington']"
      ]
     },
     "execution_count": 220,
     "metadata": {},
     "output_type": "execute_result"
    }
   ],
   "source": [
    "names = []\n",
    "\n",
    "for player in range(len(players) - 1):\n",
    "    names.append(players[player].string)\n",
    "    \n",
    "names"
   ]
  },
  {
   "cell_type": "code",
   "execution_count": 221,
   "id": "c162d62e-ec72-402d-9b67-b0fa41148e0c",
   "metadata": {},
   "outputs": [
    {
     "data": {
      "text/plain": [
       "<td class=\"right\" csk=\"2418\" data-stat=\"mp\">40:18</td>"
      ]
     },
     "execution_count": 221,
     "metadata": {},
     "output_type": "execute_result"
    }
   ],
   "source": [
    "player_reg_stats[0]"
   ]
  },
  {
   "cell_type": "code",
   "execution_count": 222,
   "id": "8480f1e7-8dab-4c2b-b89a-0fad10758e91",
   "metadata": {},
   "outputs": [
    {
     "data": {
      "text/plain": [
       "['40:18', '39:19', '32:42', '25:49', '25:43', '27:48', '24:14', '24:07']"
      ]
     },
     "execution_count": 222,
     "metadata": {},
     "output_type": "execute_result"
    }
   ],
   "source": [
    "mp_list = []\n",
    "\n",
    "for player in range(len(player_reg_stats)):\n",
    "    if player_reg_stats[player].get('data-stat') == 'mp':\n",
    "        mp_list.append(player_reg_stats[player].string)\n",
    "        \n",
    "mp_list = mp_list[:-1] # last val is overall team mins, which is always 240\n",
    "mp_list"
   ]
  },
  {
   "cell_type": "markdown",
   "id": "c0652929-eeeb-4d05-8d51-854ca988cae4",
   "metadata": {},
   "source": [
    "Looking through the code more closely, the `data-stat` values for regular stats are:\n",
    "* `mp`\n",
    "* `fg`\n",
    "* `fga`\n",
    "* `fg_pct`\n",
    "* `fg3`\n",
    "* `fg3a`\n",
    "* `fg3_pct`\n",
    "* `ft`\n",
    "* `fta`\n",
    "* `ft_pct`\n",
    "* `orb`\n",
    "* `drb`\n",
    "* `trb`\n",
    "* `ast`\n",
    "* `stl`\n",
    "* `blk`\n",
    "* `tov`\n",
    "* `pf`\n",
    "* `pts`\n",
    "* `plus_minus`\n",
    "\n",
    "And the following values for advanced stats:\n",
    "* `ts_pct`\n",
    "* `efg_pct`\n",
    "* `fg3a_per_fga_pct`\n",
    "* `fta_per_fga_pct`\n",
    "* `orb_pct`\n",
    "* `drb_pct`\n",
    "* `trb_pct`\n",
    "* `ast_pct`\n",
    "* `stl_pct`\n",
    "* `blk_pct`\n",
    "* `tov_pct`\n",
    "* `usg_pct`\n",
    "* `off_rtg`\n",
    "* `def_rtg`\n",
    "* `bpm`"
   ]
  },
  {
   "cell_type": "markdown",
   "id": "796d8957-8982-477e-a2a6-7c0fc34b9b38",
   "metadata": {},
   "source": [
    "Let's initialize some lists to fill when iterating through the extracted data"
   ]
  },
  {
   "cell_type": "code",
   "execution_count": 223,
   "id": "b9f80905-b8d9-486b-8513-c89427f14158",
   "metadata": {},
   "outputs": [],
   "source": [
    "# Regular stats\n",
    "mp_list = []\n",
    "fg_list = []\n",
    "fga_list = []\n",
    "fg_pct_list = []\n",
    "fg3_list = []\n",
    "fg3a_list = []\n",
    "fg3_pct_list = []\n",
    "ft_list = []\n",
    "fta_list = []\n",
    "ft_pct_list = []\n",
    "orb_list = []\n",
    "drb_list = []\n",
    "trb_list = []\n",
    "ast_list = []\n",
    "stl_list = []\n",
    "blk_list = []\n",
    "tov_list = []\n",
    "pf_list = []\n",
    "pts_list = []\n",
    "pm_list = []\n",
    "\n",
    "# Advanced Stats\n",
    "ts_pct_list = []\n",
    "efg_pct_list = []\n",
    "fg3a_per_fga_pct_list = []\n",
    "fta_per_fga_pct_list = []\n",
    "orb_pct_list = []\n",
    "drb_pct_list = []\n",
    "trb_pct_list = []\n",
    "ast_pct_list = []\n",
    "stl_pct_list = []\n",
    "blk_pct_list = []\n",
    "tov_pct_list = []\n",
    "usg_pct_list = []\n",
    "off_rtg_list = []\n",
    "def_rtg_list = []\n",
    "bpm_list = []\n",
    "\n",
    "\n",
    "reg_stat_list = [mp_list, fg_list, fga_list, fg_pct_list, fg3_list, fg3a_list,\n",
    "                 fg3_pct_list, ft_list, fta_list, ft_pct_list, orb_list, \n",
    "                 drb_list, trb_list, ast_list, stl_list, blk_list, tov_list, \n",
    "                 pf_list, pts_list, pm_list]\n",
    "    \n",
    "adv_stat_list = [ts_pct_list, efg_pct_list, fg3a_per_fga_pct_list, \n",
    "                 fta_per_fga_pct_list, orb_pct_list, drb_pct_list, trb_pct_list,\n",
    "                 ast_pct_list, stl_pct_list, blk_pct_list, tov_pct_list, \n",
    "                 usg_pct_list, off_rtg_list, def_rtg_list, bpm_list]\n",
    "\n",
    "reg_stat_val_list = ['mp', 'fg', 'fga', 'fg_pct', 'fg3', 'fg3a', 'fg3_pct', \n",
    "                     'ft','fta', 'ft_pct', 'orb', 'drb', 'trb', 'ast', 'stl',\n",
    "                     'blk', 'tov', 'pf', 'pts', 'plus_minus']\n",
    "\n",
    "adv_stat_val_list = ['ts_pct', 'efg_pct', 'fg3a_per_fga_pct', \n",
    "                     'fta_per_fga_pct', 'orb_pct', 'drb_pct', 'trb_pct',\n",
    "                     'ast_pct', 'stl_pct', 'blk_pct', 'tov_pct', 'usg_pct',\n",
    "                     'off_rtg', 'def_rtg', 'bpm']"
   ]
  },
  {
   "cell_type": "markdown",
   "id": "fba73327-2254-467a-9b9f-6b94428e20c5",
   "metadata": {},
   "source": [
    "We'll loop through each line of extracted data and add that info to the correct list."
   ]
  },
  {
   "cell_type": "code",
   "execution_count": 224,
   "id": "aab7b16a-58ae-4f2b-907c-e88831e513bc",
   "metadata": {},
   "outputs": [],
   "source": [
    "# Loop through regular stats\n",
    "for stat_observation in range(len(player_reg_stats)):\n",
    "    for stat_type in range(len(reg_stat_val_list)):\n",
    "        if player_reg_stats[stat_observation].get('data-stat') == reg_stat_val_list[stat_type]:\n",
    "            reg_stat_list[stat_type].append(player_reg_stats[stat_observation].string)\n",
    "            \n",
    "# Loop through advanced stats\n",
    "for stat_observation in range(len(player_adv_stats)):\n",
    "    for stat_type in range(len(adv_stat_val_list)):\n",
    "        if player_adv_stats[stat_observation].get('data-stat') == adv_stat_val_list[stat_type]:\n",
    "            adv_stat_list[stat_type].append(player_adv_stats[stat_observation].string)"
   ]
  },
  {
   "cell_type": "code",
   "execution_count": 225,
   "id": "af46b3c9-9232-4156-8049-12cdc4bcab2d",
   "metadata": {},
   "outputs": [
    {
     "name": "stdout",
     "output_type": "stream",
     "text": [
      "['40:18', '39:19', '32:42', '25:49', '25:43', '27:48', '24:14', '24:07', '240']\n",
      "['6.5', '3.4', '8.5', '-5.1', '-0.1', '-0.6', '-16.0', '3.5', None]\n"
     ]
    }
   ],
   "source": [
    "# Checking output to make sure everything went okay:\n",
    "print(mp_list)\n",
    "print(bpm_list)"
   ]
  },
  {
   "cell_type": "markdown",
   "id": "759a5e93-0b3c-442b-8843-ba2d018827ee",
   "metadata": {},
   "source": [
    "Since team stats are included in the last index for each stat list, we'll first pull out the team stats into their own list and then remove the final index for each stat list."
   ]
  },
  {
   "cell_type": "code",
   "execution_count": 226,
   "id": "d61133f0-8c07-43f2-b362-390c6caea645",
   "metadata": {},
   "outputs": [
    {
     "name": "stdout",
     "output_type": "stream",
     "text": [
      "['240', '42', '90', '.467', '17', '47', '.362', '21', '24', '.875', '8', '43', '51', '29', '2', '10', '16', '24', '122', None, '.607', '.561', '.522', '.267', '19.0', '78.2', '52.6', '69.0', '1.8', '13.2', '13.7', '100.0', '112.2', '113.2', None]\n"
     ]
    }
   ],
   "source": [
    "total_ind_stats_reg = [stat[-1] for stat in reg_stat_list]\n",
    "total_ind_stats_adv = [stat[-1] for stat in adv_stat_list]\n",
    "\n",
    "total_ind_stats = total_ind_stats_reg + total_ind_stats_adv\n",
    "print(total_ind_stats)"
   ]
  },
  {
   "cell_type": "code",
   "execution_count": 227,
   "id": "3625c15c-ea39-4402-9867-3ef642e5955e",
   "metadata": {},
   "outputs": [],
   "source": [
    "for i in range(len(reg_stat_list)):\n",
    "    reg_stat_list[i] = reg_stat_list[i][:-1]\n",
    "    \n",
    "for i in range(len(adv_stat_list)):\n",
    "    adv_stat_list[i] = adv_stat_list[i][:-1]"
   ]
  },
  {
   "cell_type": "code",
   "execution_count": 228,
   "id": "72b1b447-07db-432e-8807-f0617b6d868a",
   "metadata": {},
   "outputs": [
    {
     "data": {
      "text/plain": [
       "[['.584', '.795', '.827', '.580', '.506', '.512', '.167', '.429'],\n",
       " ['.475', '.789', '.800', '.583', '.450', '.375', '.167', '.429'],\n",
       " ['.500', '.316', '.600', '.500', '.700', '1.000', '.667', '.286'],\n",
       " ['.450', '.211', '.200', '.667', '.200', '.500', '.000', '.000'],\n",
       " ['0.0', '8.7', '0.0', '4.4', '4.4', '12.3', '0.0', '0.0'],\n",
       " ['8.7', '26.6', '13.3', '20.3', '20.4', '15.7', '7.2', '10.9'],\n",
       " ['4.9', '18.9', '7.6', '13.4', '13.5', '14.2', '4.1', '6.2'],\n",
       " ['40.3', '9.3', '5.1', '5.1', '21.6', '12.9', '0.0', '38.7'],\n",
       " ['0.0', '0.0', '1.4', '0.0', '0.0', '0.0', '0.0', '1.8'],\n",
       " ['1.6', '0.0', '0.0', '9.8', '0.0', '2.3', '5.2', '5.2'],\n",
       " ['4.0', '22.4', '5.8', '34.0', '0.0', '17.0', '18.2', '12.5'],\n",
       " ['25.5', '28.0', '21.8', '18.8', '17.4', '8.7', '18.7', '13.7'],\n",
       " ['134', '117', '145', '79', '124', '129', '29', '112'],\n",
       " ['117', '113', '114', '106', '115', '114', '114', '109'],\n",
       " ['6.5', '3.4', '8.5', '-5.1', '-0.1', '-0.6', '-16.0', '3.5']]"
      ]
     },
     "execution_count": 228,
     "metadata": {},
     "output_type": "execute_result"
    }
   ],
   "source": [
    "adv_stat_list"
   ]
  },
  {
   "cell_type": "code",
   "execution_count": 229,
   "id": "6ac79a73-dd33-46c1-b720-74f52a1c0cfb",
   "metadata": {},
   "outputs": [
    {
     "data": {
      "text/plain": [
       "[['40:18', '39:19', '32:42', '25:49', '25:43', '27:48', '24:14', '24:07'],\n",
       " ['8', '13', '9', '3', '4', '1', '1', '3'],\n",
       " ['20', '19', '15', '6', '10', '4', '9', '7'],\n",
       " ['.400', '.684', '.600', '.500', '.400', '.250', '.111', '.429'],\n",
       " ['3', '4', '6', '1', '1', '1', '1', '0'],\n",
       " ['10', '6', '9', '3', '7', '4', '6', '2'],\n",
       " ['.300', '.667', '.667', '.333', '.143', '.250', '.167', '.000'],\n",
       " ['9', '3', '3', '2', '2', '2', '0', '0'],\n",
       " ['9', '4', '3', '4', '2', '2', '0', '0'],\n",
       " ['1.000', '.750', '1.000', '.500', '1.000', '1.000', None, None],\n",
       " ['0', '3', '0', '1', '1', '3', '0', '0'],\n",
       " ['4', '12', '5', '6', '6', '5', '2', '3'],\n",
       " ['4', '15', '5', '7', '7', '8', '2', '3'],\n",
       " ['11', '2', '1', '1', '4', '3', '0', '7'],\n",
       " ['0', '0', '1', '0', '0', '0', '0', '1'],\n",
       " ['1', '0', '0', '4', '0', '1', '2', '2'],\n",
       " ['1', '6', '1', '4', '0', '1', '2', '1'],\n",
       " ['2', '4', '4', '4', '3', '4', '2', '1'],\n",
       " ['28', '33', '27', '9', '11', '5', '3', '6'],\n",
       " ['0', '-1', '+7', '-8', '+3', '-3', '+5', '-8']]"
      ]
     },
     "execution_count": 229,
     "metadata": {},
     "output_type": "execute_result"
    }
   ],
   "source": [
    "reg_stat_list"
   ]
  },
  {
   "cell_type": "code",
   "execution_count": 230,
   "id": "73aff46c-2382-410c-bef8-d7c21db857df",
   "metadata": {},
   "outputs": [
    {
     "data": {
      "text/plain": [
       "[['40:18', '39:19', '32:42', '25:49', '25:43', '27:48', '24:14', '24:07'],\n",
       " ['8', '13', '9', '3', '4', '1', '1', '3'],\n",
       " ['20', '19', '15', '6', '10', '4', '9', '7'],\n",
       " ['.400', '.684', '.600', '.500', '.400', '.250', '.111', '.429'],\n",
       " ['3', '4', '6', '1', '1', '1', '1', '0'],\n",
       " ['10', '6', '9', '3', '7', '4', '6', '2'],\n",
       " ['.300', '.667', '.667', '.333', '.143', '.250', '.167', '.000'],\n",
       " ['9', '3', '3', '2', '2', '2', '0', '0'],\n",
       " ['9', '4', '3', '4', '2', '2', '0', '0'],\n",
       " ['1.000', '.750', '1.000', '.500', '1.000', '1.000', None, None],\n",
       " ['0', '3', '0', '1', '1', '3', '0', '0'],\n",
       " ['4', '12', '5', '6', '6', '5', '2', '3'],\n",
       " ['4', '15', '5', '7', '7', '8', '2', '3'],\n",
       " ['11', '2', '1', '1', '4', '3', '0', '7'],\n",
       " ['0', '0', '1', '0', '0', '0', '0', '1'],\n",
       " ['1', '0', '0', '4', '0', '1', '2', '2'],\n",
       " ['1', '6', '1', '4', '0', '1', '2', '1'],\n",
       " ['2', '4', '4', '4', '3', '4', '2', '1'],\n",
       " ['28', '33', '27', '9', '11', '5', '3', '6'],\n",
       " ['0', '-1', '+7', '-8', '+3', '-3', '+5', '-8'],\n",
       " ['.584', '.795', '.827', '.580', '.506', '.512', '.167', '.429'],\n",
       " ['.475', '.789', '.800', '.583', '.450', '.375', '.167', '.429'],\n",
       " ['.500', '.316', '.600', '.500', '.700', '1.000', '.667', '.286'],\n",
       " ['.450', '.211', '.200', '.667', '.200', '.500', '.000', '.000'],\n",
       " ['0.0', '8.7', '0.0', '4.4', '4.4', '12.3', '0.0', '0.0'],\n",
       " ['8.7', '26.6', '13.3', '20.3', '20.4', '15.7', '7.2', '10.9'],\n",
       " ['4.9', '18.9', '7.6', '13.4', '13.5', '14.2', '4.1', '6.2'],\n",
       " ['40.3', '9.3', '5.1', '5.1', '21.6', '12.9', '0.0', '38.7'],\n",
       " ['0.0', '0.0', '1.4', '0.0', '0.0', '0.0', '0.0', '1.8'],\n",
       " ['1.6', '0.0', '0.0', '9.8', '0.0', '2.3', '5.2', '5.2'],\n",
       " ['4.0', '22.4', '5.8', '34.0', '0.0', '17.0', '18.2', '12.5'],\n",
       " ['25.5', '28.0', '21.8', '18.8', '17.4', '8.7', '18.7', '13.7'],\n",
       " ['134', '117', '145', '79', '124', '129', '29', '112'],\n",
       " ['117', '113', '114', '106', '115', '114', '114', '109'],\n",
       " ['6.5', '3.4', '8.5', '-5.1', '-0.1', '-0.6', '-16.0', '3.5']]"
      ]
     },
     "execution_count": 230,
     "metadata": {},
     "output_type": "execute_result"
    }
   ],
   "source": [
    "ind_player_stats = reg_stat_list + adv_stat_list\n",
    "ind_player_stats"
   ]
  },
  {
   "cell_type": "markdown",
   "id": "f41fa9fb-5111-4e98-83ad-b1213a2a5def",
   "metadata": {},
   "source": [
    "First, we'll add the names column to our dataframe"
   ]
  },
  {
   "cell_type": "code",
   "execution_count": 231,
   "id": "08bddd17-8097-4542-a607-ee323bbf8609",
   "metadata": {},
   "outputs": [],
   "source": [
    "ind_df = pd.DataFrame(names, columns=['player'])"
   ]
  },
  {
   "cell_type": "markdown",
   "id": "92089ad9-5b55-463d-bb4f-a3fc0aee154b",
   "metadata": {},
   "source": [
    "Now we'll add the rest of the stats to our dataframe."
   ]
  },
  {
   "cell_type": "code",
   "execution_count": 232,
   "id": "e95cd6db-bbaa-4c8e-9522-8b91ed6c33e2",
   "metadata": {},
   "outputs": [],
   "source": [
    "stat_cols = cols[1:]"
   ]
  },
  {
   "cell_type": "code",
   "execution_count": 234,
   "id": "9019c16f-2ba2-45fb-81ca-9a5ae830a612",
   "metadata": {},
   "outputs": [],
   "source": [
    "for i in range(len(stat_cols)):\n",
    "    stat_df = pd.DataFrame(ind_player_stats[i], columns=[stat_cols[i]])\n",
    "    ind_df = pd.concat([ind_df, stat_df], axis=1)"
   ]
  },
  {
   "cell_type": "code",
   "execution_count": 237,
   "id": "159f9565-c2a2-47a9-897f-8b954a8fdee3",
   "metadata": {},
   "outputs": [
    {
     "data": {
      "text/html": [
       "<div>\n",
       "<style scoped>\n",
       "    .dataframe tbody tr th:only-of-type {\n",
       "        vertical-align: middle;\n",
       "    }\n",
       "\n",
       "    .dataframe tbody tr th {\n",
       "        vertical-align: top;\n",
       "    }\n",
       "\n",
       "    .dataframe thead th {\n",
       "        text-align: right;\n",
       "    }\n",
       "</style>\n",
       "<table border=\"1\" class=\"dataframe\">\n",
       "  <thead>\n",
       "    <tr style=\"text-align: right;\">\n",
       "      <th></th>\n",
       "      <th>player</th>\n",
       "      <th>MP</th>\n",
       "      <th>FG</th>\n",
       "      <th>FGA</th>\n",
       "      <th>FG%</th>\n",
       "      <th>3P</th>\n",
       "      <th>3PA</th>\n",
       "      <th>3P%</th>\n",
       "      <th>FT</th>\n",
       "      <th>FTA</th>\n",
       "      <th>...</th>\n",
       "      <th>DRB%</th>\n",
       "      <th>TRB%</th>\n",
       "      <th>AST%</th>\n",
       "      <th>STL%</th>\n",
       "      <th>BLK%</th>\n",
       "      <th>TOV%</th>\n",
       "      <th>USG%</th>\n",
       "      <th>ORTg</th>\n",
       "      <th>DRTg</th>\n",
       "      <th>BPM</th>\n",
       "    </tr>\n",
       "  </thead>\n",
       "  <tbody>\n",
       "    <tr>\n",
       "      <th>0</th>\n",
       "      <td>Malcolm Brogdon</td>\n",
       "      <td>40:18</td>\n",
       "      <td>8</td>\n",
       "      <td>20</td>\n",
       "      <td>.400</td>\n",
       "      <td>3</td>\n",
       "      <td>10</td>\n",
       "      <td>.300</td>\n",
       "      <td>9</td>\n",
       "      <td>9</td>\n",
       "      <td>...</td>\n",
       "      <td>8.7</td>\n",
       "      <td>4.9</td>\n",
       "      <td>40.3</td>\n",
       "      <td>0.0</td>\n",
       "      <td>1.6</td>\n",
       "      <td>4.0</td>\n",
       "      <td>25.5</td>\n",
       "      <td>134</td>\n",
       "      <td>117</td>\n",
       "      <td>6.5</td>\n",
       "    </tr>\n",
       "    <tr>\n",
       "      <th>1</th>\n",
       "      <td>Domantas Sabonis</td>\n",
       "      <td>39:19</td>\n",
       "      <td>13</td>\n",
       "      <td>19</td>\n",
       "      <td>.684</td>\n",
       "      <td>4</td>\n",
       "      <td>6</td>\n",
       "      <td>.667</td>\n",
       "      <td>3</td>\n",
       "      <td>4</td>\n",
       "      <td>...</td>\n",
       "      <td>26.6</td>\n",
       "      <td>18.9</td>\n",
       "      <td>9.3</td>\n",
       "      <td>0.0</td>\n",
       "      <td>0.0</td>\n",
       "      <td>22.4</td>\n",
       "      <td>28.0</td>\n",
       "      <td>117</td>\n",
       "      <td>113</td>\n",
       "      <td>3.4</td>\n",
       "    </tr>\n",
       "    <tr>\n",
       "      <th>2</th>\n",
       "      <td>Chris Duarte</td>\n",
       "      <td>32:42</td>\n",
       "      <td>9</td>\n",
       "      <td>15</td>\n",
       "      <td>.600</td>\n",
       "      <td>6</td>\n",
       "      <td>9</td>\n",
       "      <td>.667</td>\n",
       "      <td>3</td>\n",
       "      <td>3</td>\n",
       "      <td>...</td>\n",
       "      <td>13.3</td>\n",
       "      <td>7.6</td>\n",
       "      <td>5.1</td>\n",
       "      <td>1.4</td>\n",
       "      <td>0.0</td>\n",
       "      <td>5.8</td>\n",
       "      <td>21.8</td>\n",
       "      <td>145</td>\n",
       "      <td>114</td>\n",
       "      <td>8.5</td>\n",
       "    </tr>\n",
       "    <tr>\n",
       "      <th>3</th>\n",
       "      <td>Myles Turner</td>\n",
       "      <td>25:49</td>\n",
       "      <td>3</td>\n",
       "      <td>6</td>\n",
       "      <td>.500</td>\n",
       "      <td>1</td>\n",
       "      <td>3</td>\n",
       "      <td>.333</td>\n",
       "      <td>2</td>\n",
       "      <td>4</td>\n",
       "      <td>...</td>\n",
       "      <td>20.3</td>\n",
       "      <td>13.4</td>\n",
       "      <td>5.1</td>\n",
       "      <td>0.0</td>\n",
       "      <td>9.8</td>\n",
       "      <td>34.0</td>\n",
       "      <td>18.8</td>\n",
       "      <td>79</td>\n",
       "      <td>106</td>\n",
       "      <td>-5.1</td>\n",
       "    </tr>\n",
       "    <tr>\n",
       "      <th>4</th>\n",
       "      <td>Justin Holiday</td>\n",
       "      <td>25:43</td>\n",
       "      <td>4</td>\n",
       "      <td>10</td>\n",
       "      <td>.400</td>\n",
       "      <td>1</td>\n",
       "      <td>7</td>\n",
       "      <td>.143</td>\n",
       "      <td>2</td>\n",
       "      <td>2</td>\n",
       "      <td>...</td>\n",
       "      <td>20.4</td>\n",
       "      <td>13.5</td>\n",
       "      <td>21.6</td>\n",
       "      <td>0.0</td>\n",
       "      <td>0.0</td>\n",
       "      <td>0.0</td>\n",
       "      <td>17.4</td>\n",
       "      <td>124</td>\n",
       "      <td>115</td>\n",
       "      <td>-0.1</td>\n",
       "    </tr>\n",
       "    <tr>\n",
       "      <th>5</th>\n",
       "      <td>Torrey Craig</td>\n",
       "      <td>27:48</td>\n",
       "      <td>1</td>\n",
       "      <td>4</td>\n",
       "      <td>.250</td>\n",
       "      <td>1</td>\n",
       "      <td>4</td>\n",
       "      <td>.250</td>\n",
       "      <td>2</td>\n",
       "      <td>2</td>\n",
       "      <td>...</td>\n",
       "      <td>15.7</td>\n",
       "      <td>14.2</td>\n",
       "      <td>12.9</td>\n",
       "      <td>0.0</td>\n",
       "      <td>2.3</td>\n",
       "      <td>17.0</td>\n",
       "      <td>8.7</td>\n",
       "      <td>129</td>\n",
       "      <td>114</td>\n",
       "      <td>-0.6</td>\n",
       "    </tr>\n",
       "    <tr>\n",
       "      <th>6</th>\n",
       "      <td>Jeremy Lamb</td>\n",
       "      <td>24:14</td>\n",
       "      <td>1</td>\n",
       "      <td>9</td>\n",
       "      <td>.111</td>\n",
       "      <td>1</td>\n",
       "      <td>6</td>\n",
       "      <td>.167</td>\n",
       "      <td>0</td>\n",
       "      <td>0</td>\n",
       "      <td>...</td>\n",
       "      <td>7.2</td>\n",
       "      <td>4.1</td>\n",
       "      <td>0.0</td>\n",
       "      <td>0.0</td>\n",
       "      <td>5.2</td>\n",
       "      <td>18.2</td>\n",
       "      <td>18.7</td>\n",
       "      <td>29</td>\n",
       "      <td>114</td>\n",
       "      <td>-16.0</td>\n",
       "    </tr>\n",
       "    <tr>\n",
       "      <th>7</th>\n",
       "      <td>T.J. McConnell</td>\n",
       "      <td>24:07</td>\n",
       "      <td>3</td>\n",
       "      <td>7</td>\n",
       "      <td>.429</td>\n",
       "      <td>0</td>\n",
       "      <td>2</td>\n",
       "      <td>.000</td>\n",
       "      <td>0</td>\n",
       "      <td>0</td>\n",
       "      <td>...</td>\n",
       "      <td>10.9</td>\n",
       "      <td>6.2</td>\n",
       "      <td>38.7</td>\n",
       "      <td>1.8</td>\n",
       "      <td>5.2</td>\n",
       "      <td>12.5</td>\n",
       "      <td>13.7</td>\n",
       "      <td>112</td>\n",
       "      <td>109</td>\n",
       "      <td>3.5</td>\n",
       "    </tr>\n",
       "    <tr>\n",
       "      <th>8</th>\n",
       "      <td>Isaiah Jackson</td>\n",
       "      <td>NaN</td>\n",
       "      <td>NaN</td>\n",
       "      <td>NaN</td>\n",
       "      <td>NaN</td>\n",
       "      <td>NaN</td>\n",
       "      <td>NaN</td>\n",
       "      <td>NaN</td>\n",
       "      <td>NaN</td>\n",
       "      <td>NaN</td>\n",
       "      <td>...</td>\n",
       "      <td>NaN</td>\n",
       "      <td>NaN</td>\n",
       "      <td>NaN</td>\n",
       "      <td>NaN</td>\n",
       "      <td>NaN</td>\n",
       "      <td>NaN</td>\n",
       "      <td>NaN</td>\n",
       "      <td>NaN</td>\n",
       "      <td>NaN</td>\n",
       "      <td>NaN</td>\n",
       "    </tr>\n",
       "    <tr>\n",
       "      <th>9</th>\n",
       "      <td>Goga Bitadze</td>\n",
       "      <td>NaN</td>\n",
       "      <td>NaN</td>\n",
       "      <td>NaN</td>\n",
       "      <td>NaN</td>\n",
       "      <td>NaN</td>\n",
       "      <td>NaN</td>\n",
       "      <td>NaN</td>\n",
       "      <td>NaN</td>\n",
       "      <td>NaN</td>\n",
       "      <td>...</td>\n",
       "      <td>NaN</td>\n",
       "      <td>NaN</td>\n",
       "      <td>NaN</td>\n",
       "      <td>NaN</td>\n",
       "      <td>NaN</td>\n",
       "      <td>NaN</td>\n",
       "      <td>NaN</td>\n",
       "      <td>NaN</td>\n",
       "      <td>NaN</td>\n",
       "      <td>NaN</td>\n",
       "    </tr>\n",
       "    <tr>\n",
       "      <th>10</th>\n",
       "      <td>Oshae Brissett</td>\n",
       "      <td>NaN</td>\n",
       "      <td>NaN</td>\n",
       "      <td>NaN</td>\n",
       "      <td>NaN</td>\n",
       "      <td>NaN</td>\n",
       "      <td>NaN</td>\n",
       "      <td>NaN</td>\n",
       "      <td>NaN</td>\n",
       "      <td>NaN</td>\n",
       "      <td>...</td>\n",
       "      <td>NaN</td>\n",
       "      <td>NaN</td>\n",
       "      <td>NaN</td>\n",
       "      <td>NaN</td>\n",
       "      <td>NaN</td>\n",
       "      <td>NaN</td>\n",
       "      <td>NaN</td>\n",
       "      <td>NaN</td>\n",
       "      <td>NaN</td>\n",
       "      <td>NaN</td>\n",
       "    </tr>\n",
       "    <tr>\n",
       "      <th>11</th>\n",
       "      <td>Brad Wanamaker</td>\n",
       "      <td>NaN</td>\n",
       "      <td>NaN</td>\n",
       "      <td>NaN</td>\n",
       "      <td>NaN</td>\n",
       "      <td>NaN</td>\n",
       "      <td>NaN</td>\n",
       "      <td>NaN</td>\n",
       "      <td>NaN</td>\n",
       "      <td>NaN</td>\n",
       "      <td>...</td>\n",
       "      <td>NaN</td>\n",
       "      <td>NaN</td>\n",
       "      <td>NaN</td>\n",
       "      <td>NaN</td>\n",
       "      <td>NaN</td>\n",
       "      <td>NaN</td>\n",
       "      <td>NaN</td>\n",
       "      <td>NaN</td>\n",
       "      <td>NaN</td>\n",
       "      <td>NaN</td>\n",
       "    </tr>\n",
       "    <tr>\n",
       "      <th>12</th>\n",
       "      <td>Duane Washington</td>\n",
       "      <td>NaN</td>\n",
       "      <td>NaN</td>\n",
       "      <td>NaN</td>\n",
       "      <td>NaN</td>\n",
       "      <td>NaN</td>\n",
       "      <td>NaN</td>\n",
       "      <td>NaN</td>\n",
       "      <td>NaN</td>\n",
       "      <td>NaN</td>\n",
       "      <td>...</td>\n",
       "      <td>NaN</td>\n",
       "      <td>NaN</td>\n",
       "      <td>NaN</td>\n",
       "      <td>NaN</td>\n",
       "      <td>NaN</td>\n",
       "      <td>NaN</td>\n",
       "      <td>NaN</td>\n",
       "      <td>NaN</td>\n",
       "      <td>NaN</td>\n",
       "      <td>NaN</td>\n",
       "    </tr>\n",
       "  </tbody>\n",
       "</table>\n",
       "<p>13 rows × 36 columns</p>\n",
       "</div>"
      ],
      "text/plain": [
       "              player     MP   FG  FGA   FG%   3P  3PA   3P%   FT  FTA  ...  \\\n",
       "0    Malcolm Brogdon  40:18    8   20  .400    3   10  .300    9    9  ...   \n",
       "1   Domantas Sabonis  39:19   13   19  .684    4    6  .667    3    4  ...   \n",
       "2       Chris Duarte  32:42    9   15  .600    6    9  .667    3    3  ...   \n",
       "3       Myles Turner  25:49    3    6  .500    1    3  .333    2    4  ...   \n",
       "4     Justin Holiday  25:43    4   10  .400    1    7  .143    2    2  ...   \n",
       "5       Torrey Craig  27:48    1    4  .250    1    4  .250    2    2  ...   \n",
       "6        Jeremy Lamb  24:14    1    9  .111    1    6  .167    0    0  ...   \n",
       "7     T.J. McConnell  24:07    3    7  .429    0    2  .000    0    0  ...   \n",
       "8     Isaiah Jackson    NaN  NaN  NaN   NaN  NaN  NaN   NaN  NaN  NaN  ...   \n",
       "9       Goga Bitadze    NaN  NaN  NaN   NaN  NaN  NaN   NaN  NaN  NaN  ...   \n",
       "10    Oshae Brissett    NaN  NaN  NaN   NaN  NaN  NaN   NaN  NaN  NaN  ...   \n",
       "11    Brad Wanamaker    NaN  NaN  NaN   NaN  NaN  NaN   NaN  NaN  NaN  ...   \n",
       "12  Duane Washington    NaN  NaN  NaN   NaN  NaN  NaN   NaN  NaN  NaN  ...   \n",
       "\n",
       "    DRB%  TRB%  AST% STL% BLK%  TOV%  USG% ORTg DRTg    BPM  \n",
       "0    8.7   4.9  40.3  0.0  1.6   4.0  25.5  134  117    6.5  \n",
       "1   26.6  18.9   9.3  0.0  0.0  22.4  28.0  117  113    3.4  \n",
       "2   13.3   7.6   5.1  1.4  0.0   5.8  21.8  145  114    8.5  \n",
       "3   20.3  13.4   5.1  0.0  9.8  34.0  18.8   79  106   -5.1  \n",
       "4   20.4  13.5  21.6  0.0  0.0   0.0  17.4  124  115   -0.1  \n",
       "5   15.7  14.2  12.9  0.0  2.3  17.0   8.7  129  114   -0.6  \n",
       "6    7.2   4.1   0.0  0.0  5.2  18.2  18.7   29  114  -16.0  \n",
       "7   10.9   6.2  38.7  1.8  5.2  12.5  13.7  112  109    3.5  \n",
       "8    NaN   NaN   NaN  NaN  NaN   NaN   NaN  NaN  NaN    NaN  \n",
       "9    NaN   NaN   NaN  NaN  NaN   NaN   NaN  NaN  NaN    NaN  \n",
       "10   NaN   NaN   NaN  NaN  NaN   NaN   NaN  NaN  NaN    NaN  \n",
       "11   NaN   NaN   NaN  NaN  NaN   NaN   NaN  NaN  NaN    NaN  \n",
       "12   NaN   NaN   NaN  NaN  NaN   NaN   NaN  NaN  NaN    NaN  \n",
       "\n",
       "[13 rows x 36 columns]"
      ]
     },
     "execution_count": 237,
     "metadata": {},
     "output_type": "execute_result"
    }
   ],
   "source": [
    "ind_df"
   ]
  },
  {
   "cell_type": "markdown",
   "id": "8111035b-b971-4dfc-9305-e36ac9d9e243",
   "metadata": {},
   "source": [
    "Next steps: Figure out how to do the same thing for the opposing team. Once we know how to do both teams, we should be able to grab all of the data and save it to a local file to stop hitting basketball reference every time I want to work on this."
   ]
  },
  {
   "cell_type": "code",
   "execution_count": null,
   "id": "252aafee-39ea-40a2-a59b-5597173a6d21",
   "metadata": {},
   "outputs": [],
   "source": []
  }
 ],
 "metadata": {
  "kernelspec": {
   "display_name": "Python 3",
   "language": "python",
   "name": "python3"
  },
  "language_info": {
   "codemirror_mode": {
    "name": "ipython",
    "version": 3
   },
   "file_extension": ".py",
   "mimetype": "text/x-python",
   "name": "python",
   "nbconvert_exporter": "python",
   "pygments_lexer": "ipython3",
   "version": "3.7.11"
  }
 },
 "nbformat": 4,
 "nbformat_minor": 5
}
